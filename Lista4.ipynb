{
 "cells": [
  {
   "cell_type": "markdown",
   "metadata": {},
   "source": [
    "# Exercício 6\n",
    "\n",
    "## a)\n",
    "\n",
    "No caso em que $\\theta _1$ é conhecido, podemos calcular a verossimilhança da seguinte maneira:\n",
    "\n",
    "$$ L(\\bf{\\theta}, \\bf{x}) = \\prod_{i = 1}^{n} \\theta_1 \\theta_2 x_i^{\\theta_2  -1} e^{-\\theta_ 1 x_i^{\\theta_ 2}} $$\n",
    "\n",
    "$$ l(\\bf{\\theta}, \\bf{x}) = \\log (L(\\bf{\\theta}, \\bf{x})) = \\sum_{i = 1}^{n} \\log(\\theta_1 \\theta_2 x_i^{\\theta_2  -1}) -\\theta_ 1 x_i^{\\theta_ 2}  $$\n",
    "\n",
    "$$ U_n({\\theta}) = \\frac{\\partial l(\\bf{\\theta}, \\bf{x})}{\\partial \\theta_1} = \\sum_{i = 1}^{n} \\frac{1}{\\theta_1} - x_i ^{\\theta_2} $$\n",
    "\n",
    "$$ U_n'({\\theta}) = \\frac{\\partial^2 l(\\bf{\\theta}, \\bf{x})}{\\partial \\theta_1^2} = \\sum_{i = 1}^{n} \\frac{-1}{\\theta_ 1^2}$$\n",
    "\n",
    "Com as funções score e sua derivada em relação ao parâmetro $\\theta$ calculados, utilizaremos o método de Newton-Raphson para procurar o valor de $\\theta$ que anule a função score:"
   ]
  },
  {
   "cell_type": "code",
   "execution_count": 8,
   "metadata": {},
   "outputs": [
    {
     "name": "stdout",
     "output_type": "stream",
     "text": [
      "[1] 2.2 1.0\n",
      "[1] 0.179036 1.000000\n",
      "[1] 0.3301178 1.0000000\n",
      "[1] 0.5651961 1.0000000\n",
      "[1] 0.8518028 1.0000000\n",
      "[1] 1.070838 1.000000\n",
      "[1] 1.141644 1.000000\n",
      "[1] 1.146636 1.000000\n",
      "[1] 1.146657 1.000000\n",
      "Error =  4.190088e-10 \n",
      "Result =  1.146657 1 \n",
      "Number of iterations =  9 \n"
     ]
    },
    {
     "data": {
      "image/png": "[encoded data removed]",
      "text/plain": [
       "Plot with title \"Histogram of sample\""
      ]
     },
     "metadata": {},
     "output_type": "display_data"
    }
   ],
   "source": [
    "#função score \n",
    "score <- function(x, theta){\n",
    "  value <- c(0, 0)\n",
    "  for (i in x){\n",
    "    value[1] <- value[1] + (1/theta[1]) - i^theta[2]\n",
    "    value[2] <- value[2] + (1/theta[2]) + log(i) - theta[1]*i^theta[2]*log(i)\n",
    "  }\n",
    "  return(value)\n",
    "}\n",
    "#derivada da função score em relação de theta\n",
    "scoreSlope <- function(x, theta){\n",
    "  value <- c(0, 0)\n",
    "  for (i in x){\n",
    "    value[1] <- value[1] - 1/theta[1]^2\n",
    "    value[2] <- value[2] - 1/theta[2]^2 - theta[1]*i^theta[2]*log(i)^2\n",
    "  }\n",
    "  return(value)\n",
    "}\n",
    "#amostra n = 100\n",
    "sample = c(1.19, 1.33, 1.29, 0.97, 0.57, 0.26, 1.46, 0.73, 0.45, 0.85,\n",
    "           1.67, 0.56, 0.45, 0.35, 0.52, 1.32, 1.22, 1.09, 0.27, 0.34,\n",
    "           0.59, 0.78, 0.55, 1.29, 1.11, 1.04, 1.21, 0.38, 0.61, 1.12,\n",
    "           0.72, 0.55, 0.90, 0.26, 0.90, 0.54, 0.99, 0.67, 1.36, 0.18,\n",
    "           0.58, 0.22, 1.38, 1.36, 0.35, 1.43, 0.04, 0.26, 0.86, 1.06,\n",
    "           1.47, 0.42, 0.62, 0.58, 0.65, 0.54, 0.76, 0.93, 1.15, 0.92,\n",
    "           1.95, 1.29, 0.64, 0.13, 1.70, 1.00, 0.75, 1.09, 1.40, 1.26,\n",
    "           0.87, 0.80, 0.67, 0.47, 0.66, 0.33, 0.56, 1.01, 1.54, 0.46,\n",
    "           1.39, 1.30, 1.17, 1.60, 1.16, 0.93, 1.27, 0.20, 1.17, 0.42,\n",
    "           1.53, 0.31, 1.31, 1.20, 0.75, 0.72, 1.97, 1.26, 0.48, 0.27)\n",
    "\n",
    "#tolerância entre iterações para parada\n",
    "eps = 10^(-5)\n",
    "#theta inicial\n",
    "theta = c(2.2, 1)\n",
    "error = 10\n",
    "iteration = 0\n",
    "\n",
    "#iterações do método de Newton-Raphson\n",
    "while(error > eps){\n",
    "    thetaBefore = theta\n",
    "    theta[1] <- theta[1] - score(sample, theta)[1]/scoreSlope(sample, theta)[1]\n",
    "    error <- abs(theta[1] - thetaBefore[1])\n",
    "    iteration = iteration + 1\n",
    "}\n",
    "\n",
    "#printa resultados\n",
    "cat(\"Error = \", error, \"\\n\")\n",
    "cat(\"Result = \", theta, \"\\n\")\n",
    "cat(\"Number of iterations = \", iteration, \"\\n\")\n",
    "\n",
    "#função distribuição de probabilidade\n",
    "f <- function(x, theta){\n",
    "    return(theta[1]*theta[2]*x^(theta[2]-1)*exp(-theta[1]*x^theta[2]))\n",
    "}\n",
    "\n",
    "#plota hitogramas e fdp\n",
    "hist(sample, probability = TRUE)\n",
    "lines(seq(from=0, to=2, by=0.01), f(seq(from=0, to=2, by=0.01), theta), col=\"blue\")"
   ]
  },
  {
   "cell_type": "markdown",
   "metadata": {},
   "source": [
    "Logo, em 9 iterações, obtemos $\\theta = \\theta_1 = 1.146657$ com tolerância entre iterações $\\epsilon = 10^{-5}$. Notamos pelo histograma de frequências e a curva de distribuição que a estimativa de máxima verossimilhança obtida não é próxima a distribuição, especialmente para classes menores que $0.5$. Isso ocorre pois no caso em que $\\theta_2 = 1$, o modelo se reduz a uma distribuição exponencial, entretanto, a amostra observada não é compatível com o modelo exponencial. Logo, um valor diferente de $\\theta_2$ deve ser infeirdo."
   ]
  },
  {
   "cell_type": "markdown",
   "metadata": {},
   "source": [
    "## b)\n",
    "\n",
    "Para realizar a estimativa de máxima verossimilhança para $\\theta = (\\theta_1 , \\theta_2)$, podemos realizar um processo similar com a técnica unidimensional mencionada, calculando a derivada parcial para cada parâmetro e convergendo individualmente cada parâmetro utilizando método de Newton-Raphson. Determinamos que o processo iterativo converge quando o maior valor da diferença absoluta do valor de parâmetro entre as iterações for menor que o valor de tolerância $\\epsilon$, isto é:\n",
    "\n",
    "$$ Diff(i, i+1) = \\max (|\\theta_{1(i)} - \\theta_{1(i + 1)}|, |\\theta_{2(i)} - \\theta_{2(i + 1)}|) < \\epsilon$$\n",
    "\n",
    "Já calculamos a função score para $\\theta_1$, calculamos agora função score para o parâmetro $\\theta_2$:\n",
    "\n",
    "$$ U_n({\\theta}) = \\frac{\\partial l(\\bf{\\theta}, \\bf{x})}{\\partial \\theta_2} = \\sum_{i = 1}^{n} \\frac{1}{\\theta_2} + \\log(x_ i) - \\theta_1 x_ i^{\\theta_2}\\log(x_ i)$$\n",
    "\n",
    "$$ U_n'({\\theta}) = \\frac{\\partial^2 l(\\bf{\\theta}, \\bf{x})}{\\partial \\theta_2^2} = \\sum_{i = 1}^{n} \\frac{-1}{\\theta_ 2^2} - \\theta_1 x_i^{\\theta_2} (\\log x_ i)^2$$\n",
    "\n",
    "Assim, podemos iterativamente converger nos valores de máxima verossimilhança de $\\theta$."
   ]
  },
  {
   "cell_type": "markdown",
   "metadata": {},
   "source": [
    "## c)\n",
    "\n",
    "Por final, utilizamos o seguinte script para realizar Newton-Raphson:"
   ]
  },
  {
   "cell_type": "code",
   "execution_count": 6,
   "metadata": {},
   "outputs": [
    {
     "name": "stdout",
     "output_type": "stream",
     "text": [
      "Error =  4.196248e-06 \n",
      "Result =  1.035318 2.079401 \n",
      "Number of iterations =  14 \n"
     ]
    }
   ],
   "source": [
    "eps = 10^(-5)\n",
    "theta = c(2, 2)\n",
    "error = 10\n",
    "iteration = 0\n",
    "\n",
    "while(error > eps){\n",
    "    thetaBefore = theta\n",
    "    theta <- theta - score(sample, theta)/scoreSlope(sample, theta)\n",
    "    error <- max(abs(theta - thetaBefore))\n",
    "    iteration <- iteration + 1\n",
    "}\n",
    "\n",
    "cat(\"Error = \", error, \"\\n\")\n",
    "cat(\"Result = \", theta, \"\\n\")\n",
    "cat(\"Number of iterations = \", iteration, \"\\n\")"
   ]
  },
  {
   "cell_type": "markdown",
   "metadata": {},
   "source": [
    "Logo, em 14 iterações, obtemos $\\theta = (\\theta_1, \\theta_2) = (1.035318, 2.079401)$."
   ]
  },
  {
   "cell_type": "markdown",
   "metadata": {},
   "source": [
    "## d)"
   ]
  },
  {
   "cell_type": "code",
   "execution_count": 7,
   "metadata": {},
   "outputs": [
    {
     "data": {
      "image/png": "[encoded data removed]",
      "text/plain": [
       "Plot with title \"Histogram of sample\""
      ]
     },
     "metadata": {},
     "output_type": "display_data"
    }
   ],
   "source": [
    "hist(sample, probability = TRUE)\n",
    "lines(seq(from=0, to=2, by=0.01), f(seq(from=0, to=2, by=0.01), theta), col=\"blue\")"
   ]
  },
  {
   "cell_type": "markdown",
   "metadata": {},
   "source": [
    "Notamos que a distribuição obtida é próxima ao formato do histograma da amostra observada, sendo muito mais próximo do que tentativa anterior assumindo $\\theta_2 = 1$. Entretanto, há discrepâncias entre algumas classes do histograma com a distribuição, o que é razoável para uma amostra com tamanho modesto ($n = 100$)."
   ]
  },
  {
   "cell_type": "markdown",
   "metadata": {},
   "source": [
    "## e)\n",
    "Podemos, por invariância, procurar o estimador de outra função de $\\theta$, que tem imagem somente nos reais posistivos. Isto é, podemos utilizar Newton-Raphson para buscar por um $\\alpha$ tal que:\n",
    "\n",
    "$$ \\theta_n = e^{\\alpha_n},  \\qquad i = 1,2$$\n",
    "\n",
    "Sendo que o estimador de máxima verossimilhança de $\\theta$ é igual a $e^{\\hat{\\alpha}}$, em que $\\hat{\\alpha}$ é o estimador de máxima verossimilhança de $\\alpha$.\n",
    "Neste caso, $\\alpha$ pode variar no espaço $\\mathbb{R}$, e como a imagem da função exponencial está definida somente no $\\mathbb{R}_+$, conveniementemente nos restringimos no espaço pertinente para buscar os parâmetros. \n",
    "\n",
    "Entretanto, percebemos que devemos obter a função score em função de $\\alpha$, derivadas em relação a $\\alpha$. Para isso, utilizamos o pacote numDeriv disponível para R, assim realizamos derivada numérica. "
   ]
  },
  {
   "cell_type": "code",
   "execution_count": 22,
   "metadata": {},
   "outputs": [
    {
     "name": "stdout",
     "output_type": "stream",
     "text": [
      "Error =  3.767823e-06 \n",
      "Alpha=  0.03470743 0.7320804 \n",
      "Result =  1.035317 2.079402 \n"
     ]
    },
    {
     "data": {
      "image/png": "[encoded data removed]",
      "text/plain": [
       "Plot with title \"Histogram of sample\""
      ]
     },
     "metadata": {},
     "output_type": "display_data"
    }
   ],
   "source": [
    "#biblioteca para realizar derivada numerica\n",
    "library(numDeriv)\n",
    "\n",
    "#funcao likelihood que deve ser derivada para obter score\n",
    "#note que amostra não é parâmetro da função para evitar que \n",
    "#influnecie no resultado da derivada por  numDeriv\n",
    "likelihood <- function(alpha){\n",
    "  value <- 0\n",
    "  x <- c(1.19, 1.33, 1.29, 0.97, 0.57, 0.26, 1.46, 0.73, 0.45, 0.85,\n",
    "        1.67, 0.56, 0.45, 0.35, 0.52, 1.32, 1.22, 1.09, 0.27, 0.34,\n",
    "        0.59, 0.78, 0.55, 1.29, 1.11, 1.04, 1.21, 0.38, 0.61, 1.12,\n",
    "        0.72, 0.55, 0.90, 0.26, 0.90, 0.54, 0.99, 0.67, 1.36, 0.18,\n",
    "        0.58, 0.22, 1.38, 1.36, 0.35, 1.43, 0.04, 0.26, 0.86, 1.06,\n",
    "        1.47, 0.42, 0.62, 0.58, 0.65, 0.54, 0.76, 0.93, 1.15, 0.92,\n",
    "        1.95, 1.29, 0.64, 0.13, 1.70, 1.00, 0.75, 1.09, 1.40, 1.26,\n",
    "        0.87, 0.80, 0.67, 0.47, 0.66, 0.33, 0.56, 1.01, 1.54, 0.46,\n",
    "        1.39, 1.30, 1.17, 1.60, 1.16, 0.93, 1.27, 0.20, 1.17, 0.42,\n",
    "        1.53, 0.31, 1.31, 1.20, 0.75, 0.72, 1.97, 1.26, 0.48, 0.27)\n",
    "  theta <- exp(alpha)\n",
    "  for (i in x){\n",
    "    value = value + log(theta[1]*theta[2]*i^(theta[2]-1)) - theta[1]*i^(theta[2])\n",
    "  }\n",
    "  return(value)\n",
    "}\n",
    "\n",
    "eps = 10^(-5)\n",
    "alpha = c(2, 2)\n",
    "error = 10\n",
    "\n",
    "while(error > eps){\n",
    "    alphaBefore = alpha\n",
    "    alpha <- alpha - grad(likelihood, alpha)/diag(hessian(likelihood, alpha))\n",
    "    error <- min(abs(alpha - alphaBefore))\n",
    "}\n",
    "\n",
    "cat(\"Error = \", error, \"\\n\")\n",
    "cat(\"Alpha= \", alpha, \"\\n\")\n",
    "cat(\"Result = \", exp(alpha), \"\\n\")\n",
    "\n",
    "f <- function(x, theta){\n",
    "    return(theta[1]*theta[2]*x^(theta[2]-1)*exp(-theta[1]*x^theta[2]))\n",
    "}\n",
    "\n",
    "hist(sample, probability = TRUE)\n",
    "lines(seq(from=0, to=2, by=0.01), f(seq(from=0, to=2, by=0.01), exp(theta)), col=\"blue\")\n"
   ]
  }
 ],
 "metadata": {
  "kernelspec": {
   "display_name": "R 3.5",
   "language": "R",
   "name": "ir35"
  },
  "language_info": {
   "codemirror_mode": "r",
   "file_extension": ".r",
   "mimetype": "text/x-r-source",
   "name": "R",
   "pygments_lexer": "r",
   "version": "3.5.1"
  }
 },
 "nbformat": 4,
 "nbformat_minor": 2
}

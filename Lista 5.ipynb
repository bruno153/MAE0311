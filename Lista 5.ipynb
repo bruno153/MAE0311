{
 "cells": [
  {
   "cell_type": "code",
   "execution_count": 1,
   "metadata": {},
   "outputs": [],
   "source": [
    "# Função que gera o intervalo de confiança\n",
    "GenInterval <- function(sample, size){\n",
    "    thetamv <- mean(sample)\n",
    "    c1 <- -1.96\n",
    "    c2 <- 1.96\n",
    "    return(c(-(c2*sqrt(thetamv))/sqrt(size) + thetamv, (-(c1*sqrt(thetamv))/sqrt(size) + thetamv)))\n",
    "}"
   ]
  },
  {
   "cell_type": "code",
   "execution_count": 4,
   "metadata": {},
   "outputs": [
    {
     "name": "stdout",
     "output_type": "stream",
     "text": [
      "Size = 1000  - Percentage = 0.9273 \n",
      "Size = 1500  - Percentage = 0.92009 \n",
      "Size = 2000  - Percentage = 0.94671 \n",
      "Size = 2500  - Percentage = 0.94906 \n",
      "Size = 3000  - Percentage = 0.93028 \n",
      "Size = 3500  - Percentage = 0.93641 \n",
      "Size = 4000  - Percentage = 0.94182 \n",
      "Size = 4500  - Percentage = 0.94798 \n",
      "Size = 5000  - Percentage = 0.94933 \n"
     ]
    }
   ],
   "source": [
    "# Número de ensaios\n",
    "trials = 100000\n",
    "theta = 0.01\n",
    "\n",
    "# Tamanhos amostrais a serem testados\n",
    "sample_sizes = seq(1000, 5000, 500)\n",
    "\n",
    "# Para todo tamanho amostral\n",
    "for(sample_size in sample_sizes){\n",
    "    hit = 0\n",
    "    theta_mv = c()\n",
    "    # Para cada ensaio\n",
    "    for(i in 1:trials){\n",
    "        # Gera amostra\n",
    "        sample = rpois(sample_size, theta)\n",
    "        # Armazena EMV\n",
    "        theta_mv = c(theta_mv,mean(sample))\n",
    "        # Gera intervalo de confiança\n",
    "        interval = GenInterval(sample, sample_size)\n",
    "        # Verifica se theta está no intervalo\n",
    "        if(interval[1] < theta & interval[2] > theta){\n",
    "            hit = hit + 1\n",
    "        }\n",
    "    }\n",
    "    # Imprime porcentagem\n",
    "    cat(\"Size =\", sample_size, \" - Percentage =\", hit/trials, \"\\n\")\n",
    "}\n",
    "\n"
   ]
  },
  {
   "cell_type": "markdown",
   "metadata": {},
   "source": [
    "Notamos que para $n > 4000$, temos a porcentagem de intervalos que contém $\\theta$ mais do que $94\\%$ das vezes. Logo, propomos tamanho amostral $n > 4000$. "
   ]
  },
  {
   "cell_type": "code",
   "execution_count": null,
   "metadata": {},
   "outputs": [],
   "source": []
  }
 ],
 "metadata": {
  "kernelspec": {
   "display_name": "R 3.5",
   "language": "R",
   "name": "ir35"
  },
  "language_info": {
   "codemirror_mode": "r",
   "file_extension": ".r",
   "mimetype": "text/x-r-source",
   "name": "R",
   "pygments_lexer": "r",
   "version": "3.5.1"
  }
 },
 "nbformat": 4,
 "nbformat_minor": 2
}
